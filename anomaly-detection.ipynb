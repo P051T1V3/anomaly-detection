{
 "cells": [
  {
   "cell_type": "code",
   "execution_count": 1,
   "metadata": {},
   "outputs": [],
   "source": [
    "import numpy as np\n",
    "import pandas as pd\n",
    "import matplotlib.pyplot as plt\n",
    "import ipywidgets as widgets"
   ]
  },
  {
   "cell_type": "markdown",
   "metadata": {},
   "source": [
    "# PREPROCESSING"
   ]
  },
  {
   "cell_type": "markdown",
   "metadata": {},
   "source": [
    "## Converting Excel Data into Pivot Tables (also removes KPIs that only have null values)"
   ]
  },
  {
   "cell_type": "code",
   "execution_count": 2,
   "metadata": {},
   "outputs": [],
   "source": [
    "df = pd.read_excel(\"data.xlsx\") # Importing the excel takes time\n",
    "\n",
    "df[\"DATE\"] = df[\"DATE\"].astype(str)\n",
    "\n",
    "city_list = list(sorted(set(df[\"CITY\"])))\n",
    "raw_city_dfs = dict()\n",
    "cities = dict()\n",
    "\n",
    "for city in city_list:\n",
    "    sub_df = df[df[\"CITY\"]==city]\n",
    "    \n",
    "    city_df = pd.pivot_table(sub_df, columns=\"KPI\",\n",
    "                     index=\"DATE\",\n",
    "                     values=\"VALUE\")\n",
    "    raw_city_dfs[city] = city_df\n",
    "    cities[len(cities)] = city"
   ]
  },
  {
   "cell_type": "code",
   "execution_count": 3,
   "metadata": {
    "scrolled": true
   },
   "outputs": [
    {
     "name": "stdout",
     "output_type": "stream",
     "text": [
      "Start Date  End Date Days, KPIS\n",
      "2023-07-20 2023-08-17 (29, 109)\n",
      "2023-07-20 2023-08-16 (28, 84)\n",
      "2023-07-20 2023-08-15 (27, 84)\n",
      "2023-07-20 2023-08-16 (28, 84)\n",
      "2023-07-20 2023-08-16 (28, 92)\n",
      "2023-07-20 2023-08-16 (28, 88)\n",
      "2023-07-20 2023-08-16 (28, 88)\n",
      "2023-07-20 2023-08-16 (28, 84)\n",
      "2023-07-20 2023-08-16 (28, 84)\n",
      "2023-07-20 2023-08-16 (28, 109)\n",
      "2023-07-20 2023-08-15 (27, 84)\n",
      "2023-07-20 2023-08-16 (28, 84)\n",
      "2023-07-20 2023-08-20 (32, 108)\n",
      "2023-07-20 2023-08-16 (28, 84)\n",
      "2023-07-20 2023-08-16 (28, 108)\n",
      "2023-07-20 2023-08-16 (28, 88)\n",
      "2023-07-20 2023-08-15 (27, 83)\n",
      "2023-07-20 2023-08-16 (28, 108)\n",
      "2023-07-20 2023-08-16 (28, 91)\n",
      "2023-07-20 2023-08-15 (27, 88)\n",
      "2023-07-20 2023-08-16 (28, 84)\n",
      "2023-07-20 2023-08-16 (28, 96)\n",
      "2023-07-20 2023-08-16 (28, 108)\n",
      "2023-07-20 2023-08-16 (28, 108)\n"
     ]
    }
   ],
   "source": [
    "print(\"Start Date  End Date Days, KPIS\")\n",
    "for city in cities.values():\n",
    "    print(raw_city_dfs[city].index[0], raw_city_dfs[city].index[-1], raw_city_dfs[city].shape)\n",
    "\n",
    "# Some cities don't have data after the 15th of August. \n",
    "# Also, since we are comparing KPI performances, every city should have the same KPIs. The others should be dropped."
   ]
  },
  {
   "cell_type": "markdown",
   "metadata": {},
   "source": [
    "## Removing KPIs That Don't Exist in All City Data"
   ]
  },
  {
   "cell_type": "code",
   "execution_count": 4,
   "metadata": {},
   "outputs": [],
   "source": [
    "city_dfs = raw_city_dfs.copy()\n",
    "for i in range(len(cities)-1):\n",
    "    for j in range(i+1, len(cities)):\n",
    "        city1 = cities[i]\n",
    "        city2 = cities[j]\n",
    "        city1_kpis = set(city_dfs[city1].columns)\n",
    "        city2_kpis = set(city_dfs[city2].columns)\n",
    "\n",
    "        city1s_unique_kpis = city1_kpis - city2_kpis\n",
    "        city2s_unique_kpis = city2_kpis - city1_kpis\n",
    "\n",
    "        city_dfs[city1] = city_dfs[city1].drop(city1s_unique_kpis, axis=1)\n",
    "        city_dfs[city2] = city_dfs[city2].drop(city2s_unique_kpis, axis=1)\n",
    "\n",
    "kpis = list(set(city_dfs[\"CITY-1\"].columns))\n",
    "kpis.sort(key=lambda x:int(x.split(\"-\")[1]))\n",
    "kpi_types = {kpi : df[df[\"KPI\"]==kpi][\"KIND\"].iloc[0] for kpi in kpis}"
   ]
  },
  {
   "cell_type": "code",
   "execution_count": 5,
   "metadata": {
    "scrolled": true
   },
   "outputs": [
    {
     "name": "stdout",
     "output_type": "stream",
     "text": [
      "Start Date  End Date Days, KPIS\n",
      "2023-07-20 2023-08-17 (29, 81)\n",
      "2023-07-20 2023-08-16 (28, 81)\n",
      "2023-07-20 2023-08-15 (27, 81)\n",
      "2023-07-20 2023-08-16 (28, 81)\n",
      "2023-07-20 2023-08-16 (28, 81)\n",
      "2023-07-20 2023-08-16 (28, 81)\n",
      "2023-07-20 2023-08-16 (28, 81)\n",
      "2023-07-20 2023-08-16 (28, 81)\n",
      "2023-07-20 2023-08-16 (28, 81)\n",
      "2023-07-20 2023-08-16 (28, 81)\n",
      "2023-07-20 2023-08-15 (27, 81)\n",
      "2023-07-20 2023-08-16 (28, 81)\n",
      "2023-07-20 2023-08-20 (32, 81)\n",
      "2023-07-20 2023-08-16 (28, 81)\n",
      "2023-07-20 2023-08-16 (28, 81)\n",
      "2023-07-20 2023-08-16 (28, 81)\n",
      "2023-07-20 2023-08-15 (27, 81)\n",
      "2023-07-20 2023-08-16 (28, 81)\n",
      "2023-07-20 2023-08-16 (28, 81)\n",
      "2023-07-20 2023-08-15 (27, 81)\n",
      "2023-07-20 2023-08-16 (28, 81)\n",
      "2023-07-20 2023-08-16 (28, 81)\n",
      "2023-07-20 2023-08-16 (28, 81)\n",
      "2023-07-20 2023-08-16 (28, 81)\n"
     ]
    }
   ],
   "source": [
    "print(\"Start Date  End Date Days, KPIS\")\n",
    "for city in cities.values():\n",
    "    print(city_dfs[city].index[0], city_dfs[city].index[-1], city_dfs[city].shape)"
   ]
  },
  {
   "cell_type": "markdown",
   "metadata": {},
   "source": [
    "## Removing Days That Don't Exist in All City Data"
   ]
  },
  {
   "cell_type": "code",
   "execution_count": 6,
   "metadata": {},
   "outputs": [],
   "source": [
    "earliest_last_day = min([city_dfs[city].index[-1] for city in cities.values()])\n",
    "\n",
    "for city in cities.values():\n",
    "    temp = city_dfs[city]\n",
    "    temp = temp[city_dfs[city].index <= earliest_last_day]\n",
    "    city_dfs[city] = temp\n",
    "    \n",
    "dates = list(sorted(set(city_dfs[\"CITY-1\"].index)))"
   ]
  },
  {
   "cell_type": "code",
   "execution_count": 7,
   "metadata": {
    "scrolled": true
   },
   "outputs": [
    {
     "name": "stdout",
     "output_type": "stream",
     "text": [
      "Start Date  End Date Days, KPIS\n",
      "2023-07-20 2023-08-15 (27, 81)\n",
      "2023-07-20 2023-08-15 (27, 81)\n",
      "2023-07-20 2023-08-15 (27, 81)\n",
      "2023-07-20 2023-08-15 (27, 81)\n",
      "2023-07-20 2023-08-15 (27, 81)\n",
      "2023-07-20 2023-08-15 (27, 81)\n",
      "2023-07-20 2023-08-15 (27, 81)\n",
      "2023-07-20 2023-08-15 (27, 81)\n",
      "2023-07-20 2023-08-15 (27, 81)\n",
      "2023-07-20 2023-08-15 (27, 81)\n",
      "2023-07-20 2023-08-15 (27, 81)\n",
      "2023-07-20 2023-08-15 (27, 81)\n",
      "2023-07-20 2023-08-15 (27, 81)\n",
      "2023-07-20 2023-08-15 (27, 81)\n",
      "2023-07-20 2023-08-15 (27, 81)\n",
      "2023-07-20 2023-08-15 (27, 81)\n",
      "2023-07-20 2023-08-15 (27, 81)\n",
      "2023-07-20 2023-08-15 (27, 81)\n",
      "2023-07-20 2023-08-15 (27, 81)\n",
      "2023-07-20 2023-08-15 (27, 81)\n",
      "2023-07-20 2023-08-15 (27, 81)\n",
      "2023-07-20 2023-08-15 (27, 81)\n",
      "2023-07-20 2023-08-15 (27, 81)\n",
      "2023-07-20 2023-08-15 (27, 81)\n"
     ]
    }
   ],
   "source": [
    "print(\"Start Date  End Date Days, KPIS\")\n",
    "for city in cities.values():\n",
    "    print(city_dfs[city].index[0], city_dfs[city].index[-1], city_dfs[city].shape)"
   ]
  },
  {
   "cell_type": "markdown",
   "metadata": {},
   "source": [
    "## Checking If There Are Any More Null Values and Filling w/ Median If So"
   ]
  },
  {
   "cell_type": "code",
   "execution_count": 8,
   "metadata": {},
   "outputs": [],
   "source": [
    "for city in cities.values():\n",
    "    test = city_dfs[city]\n",
    "    total_nulls = 0\n",
    "    for i in range(len(test.index)):\n",
    "        for j in range(len(test.columns)):\n",
    "            if type(test.iloc[i,j]) != np.float64:\n",
    "                total_nulls += 1\n",
    "                \n",
    "    if total_nulls != 0:\n",
    "        city_dfs[city] = city_dfs[city].fillna(np.median(city_dfs[city]))\n",
    "        print(f\"There were {total_nulls} nulls for city data of {city}.\")\n"
   ]
  },
  {
   "cell_type": "markdown",
   "metadata": {},
   "source": [
    "# ANOMALY DETECTION"
   ]
  },
  {
   "cell_type": "markdown",
   "metadata": {},
   "source": [
    "## Creating functions for plotting anomalies"
   ]
  },
  {
   "cell_type": "code",
   "execution_count": 9,
   "metadata": {},
   "outputs": [],
   "source": [
    "def prior_day_data(city_name, kpi, last_date, days):\n",
    "    \"\"\"\n",
    "    Get data of last 'days' days of the specified kpi\n",
    "    and return the values as list.\n",
    "    \n",
    "    kpi: str\n",
    "    start_date: date (yyyy-mm-dd)\n",
    "    days: int\n",
    "    \"\"\"\n",
    "    \n",
    "    num_dates = {k:v for v,k in list(enumerate(dates))}\n",
    "    \n",
    "    if num_dates[last_date]<days:\n",
    "        print(\"Not enough days to iterate through\")\n",
    "        print(\"Start day:\", last_date)\n",
    "        print(\"Required days:\", days)\n",
    "        return\n",
    "\n",
    "    df = city_dfs[city_name]\n",
    "    date_id = num_dates[last_date]\n",
    "    \n",
    "    data = df[kpi].iloc[date_id-days:date_id]\n",
    "    \n",
    "    return data\n",
    "\n",
    "def get_limits(values, mean, threshold):\n",
    "    \"\"\"\n",
    "    Returns the threshold*std limits for the next point that will be plotted.\n",
    "    If the next point is beyond the threshold, it will be an anomaly. This is determined in is_anomaly().\n",
    "    \n",
    "    values: list (output of prior_day_data)\n",
    "    mean: float (mean of all data of kpi)\n",
    "    threshold: int\n",
    "    \"\"\"    \n",
    "    std = np.std(values)\n",
    "    \n",
    "    if mean <= 100 and mean > 90:\n",
    "        up_lim = min(100, mean + threshold*std)\n",
    "    else:\n",
    "        up_lim = mean + threshold*std\n",
    "     \n",
    "    if mean >= 0 and mean < 1:\n",
    "        low_lim = max(0, mean - threshold*std)\n",
    "    else:\n",
    "        low_lim = mean - threshold*std\n",
    "\n",
    "    return (low_lim, up_lim)\n",
    "\n",
    "def plot_threshold(city_name, kpi, days, threshold, plot=True):\n",
    "    \"\"\"\n",
    "    Given a kpi, plot the threshold graph based\n",
    "    on the days to take into account while calculating the limits.\n",
    "    \n",
    "    kpi: str\n",
    "    days: int (how many previous days should we use to calculate standart deviation)\n",
    "    threshold: int (how many stds away from the mean is acceptable?)\n",
    "    \"\"\"\n",
    "    \n",
    "    # Extracting kpi_data for the given city\n",
    "    df = city_dfs[city_name]\n",
    "    values = df[kpi]\n",
    "    kind = kpi_types[kpi]\n",
    "    mean = np.mean(values)\n",
    "    \n",
    "    # Iterating through every kpi value starting from (days+1)th point to find the std \n",
    "    # until that point starting from (j-days)th point for the (j)th point.\n",
    "    \n",
    "    up_lims = list()\n",
    "    low_lims = list()\n",
    "    \n",
    "    for i in range(len(values)-days):\n",
    "        curr_date = dates[days+i] \n",
    "        prior_data = prior_day_data(city_name, kpi, curr_date, days)\n",
    "        low_lim, up_lim = get_limits(prior_data, mean, threshold)\n",
    "        \n",
    "        up_lims.append(up_lim)\n",
    "        low_lims.append(low_lim)\n",
    "        \n",
    "    l_mean = np.mean(low_lims)\n",
    "    u_mean = np.mean(up_lims)\n",
    "    \n",
    "    # Filling in the missing values with the overall mean of the kpi's limits\n",
    "    while len(low_lims)<len(dates):\n",
    "        low_lims.insert(0,l_mean)\n",
    "        \n",
    "    while len(up_lims)<len(dates):\n",
    "        up_lims.insert(0,u_mean)\n",
    "    \n",
    "    # Plotting\n",
    "    if plot:\n",
    "        fig, ax = plt.subplots()\n",
    "\n",
    "        ax.plot(dates, up_lims, \"--\", color=\"blue\", linewidth=1) # Upper threshold\n",
    "        ax.plot(dates, low_lims, \"--\", color=\"red\", linewidth=1) # Lower threshold\n",
    "\n",
    "        ax.fill_between(dates, up_lims, low_lims, color=\"palegreen\", alpha=0.2)\n",
    "\n",
    "        ax.spines[\"top\"].set_visible(False)\n",
    "        ax.spines[\"right\"].set_visible(False)\n",
    "        ax.spines[\"left\"].set_visible(False)\n",
    "\n",
    "        ax.grid(True, axis=\"both\", alpha=0.3)\n",
    "        ax.set_xticks(range(len(dates))[::2], dates[::2], rotation=45,size=7)\n",
    "        ax.set_title(f\"{kpi} ({city_name})\\nKPI KIND: {kind}\")\n",
    "\n",
    "        return (low_lims, up_lims, ax)\n",
    "    \n",
    "    return (low_lims, up_lims)"
   ]
  },
  {
   "cell_type": "code",
   "execution_count": 10,
   "metadata": {},
   "outputs": [],
   "source": [
    "def is_anomaly(value, lim, kind):\n",
    "    \"\"\"\n",
    "    Given the value, its limit and the KIND of the kpi determine if the value is an anomaly\n",
    "    \n",
    "    value: float (single value of a kpi's data)\n",
    "    lim: float (upper or lower limit of the value, unless it is an anomaly)\n",
    "    kind: str (\"LOW\" or \"HIGH\")\n",
    "    \"\"\" \n",
    "    \n",
    "    if kind == \"LOW\":\n",
    "        return value<lim\n",
    "    else:\n",
    "        return value>lim\n",
    "\n",
    "def plot_anomalies(city_name, kpi, days, std):\n",
    "    \"\"\"\n",
    "    Plots the given city's kpi's anomaly thresholds, kpi values and the anomaly values in red\n",
    "    \n",
    "    city_name: str\n",
    "    kpi: str\n",
    "    days: int\n",
    "    std: float\n",
    "    \"\"\"\n",
    "    data_test = plot_threshold(city_name, kpi, days, std)\n",
    "    if data_test == None:\n",
    "        return\n",
    "    else:\n",
    "        low_lims, up_lims, ax = data_test\n",
    "    \n",
    "    df = city_dfs[city_name]\n",
    "    plot_dates = dates.copy()\n",
    "    values = df[kpi]\n",
    "    kind = kpi_types[kpi]\n",
    "    \n",
    "    if kind==\"LOW\":\n",
    "        lims = low_lims\n",
    "    else:\n",
    "        lims = up_lims\n",
    "    \n",
    "    # Finding colors of individual instances. Anomalies will be 'crimson'.\n",
    "    colors = list()\n",
    "    for i in range(len(values)):\n",
    "        v = values[i]\n",
    "        l = lims[i]\n",
    "        if is_anomaly(v,l,kind):\n",
    "            colors.append(\"crimson\")\n",
    "        else:\n",
    "            colors.append(\"whitesmoke\")\n",
    "    while len(values) != len(plot_dates):\n",
    "        plot_dates.pop()\n",
    "            \n",
    "    plt.scatter(plot_dates, values, color=colors, edgecolor=\"black\")"
   ]
  },
  {
   "cell_type": "markdown",
   "metadata": {},
   "source": [
    "## Adding interactability"
   ]
  },
  {
   "cell_type": "code",
   "execution_count": 11,
   "metadata": {},
   "outputs": [],
   "source": [
    "city_names = list(cities.values())\n",
    "w_city = widgets.Dropdown(\n",
    "    options=city_names,\n",
    "    value=city_names[0],\n",
    "    disabled=False,\n",
    "    description='City:'\n",
    ")\n",
    "\n",
    "w_kpi = widgets.Dropdown(\n",
    "    options=kpis,\n",
    "    value=kpis[0],\n",
    "    disabled=False,\n",
    "    description='KPI:'\n",
    ")\n",
    "\n",
    "w_days = widgets.IntSlider(\n",
    "    value=10,\n",
    "    min=5,\n",
    "    max=25,\n",
    "    step=1,\n",
    "    description='Days:',\n",
    "    disabled=False,\n",
    "    continuous_update=False,\n",
    "    orientation='horizontal',\n",
    "    readout=True\n",
    ")\n",
    "\n",
    "w_std = widgets.FloatSlider(\n",
    "    value=1.5,\n",
    "    min=0,\n",
    "    max=4,\n",
    "    step=0.1,\n",
    "    description='σ:',\n",
    "    disabled=False,\n",
    "    continuous_update=False,\n",
    "    orientation='horizontal',\n",
    "    readout=True,\n",
    "    readout_format='.1f'\n",
    ")"
   ]
  },
  {
   "cell_type": "markdown",
   "metadata": {},
   "source": [
    "## Plot anomalies by City, KPI, days to consider and stds to deviate (σ)"
   ]
  },
  {
   "cell_type": "code",
   "execution_count": 12,
   "metadata": {
    "scrolled": true
   },
   "outputs": [
    {
     "data": {
      "application/vnd.jupyter.widget-view+json": {
       "model_id": "2c6b277156ab4cafbbf353f8b8708f78",
       "version_major": 2,
       "version_minor": 0
      },
      "text/plain": [
       "Dropdown(description='City:', options=('CITY-1', 'CITY-10', 'CITY-11', 'CITY-12', 'CITY-13', 'CITY-14', 'CITY-…"
      ]
     },
     "metadata": {},
     "output_type": "display_data"
    },
    {
     "data": {
      "application/vnd.jupyter.widget-view+json": {
       "model_id": "067804a854ab4624a6c550dc4d088c50",
       "version_major": 2,
       "version_minor": 0
      },
      "text/plain": [
       "Dropdown(description='KPI:', options=('KPI-2', 'KPI-4', 'KPI-5', 'KPI-6', 'KPI-8', 'KPI-9', 'KPI-10', 'KPI-11'…"
      ]
     },
     "metadata": {},
     "output_type": "display_data"
    },
    {
     "data": {
      "application/vnd.jupyter.widget-view+json": {
       "model_id": "35b63d5876e049419c27f88311688a65",
       "version_major": 2,
       "version_minor": 0
      },
      "text/plain": [
       "IntSlider(value=10, continuous_update=False, description='Days:', max=25, min=5)"
      ]
     },
     "metadata": {},
     "output_type": "display_data"
    },
    {
     "data": {
      "application/vnd.jupyter.widget-view+json": {
       "model_id": "97e5afc284a0490899ea3f71081edeca",
       "version_major": 2,
       "version_minor": 0
      },
      "text/plain": [
       "FloatSlider(value=1.5, continuous_update=False, description='σ:', max=4.0, readout_format='.1f')"
      ]
     },
     "metadata": {},
     "output_type": "display_data"
    }
   ],
   "source": [
    "display(w_city,w_kpi,w_days,w_std)"
   ]
  },
  {
   "cell_type": "code",
   "execution_count": 25,
   "metadata": {
    "scrolled": false
   },
   "outputs": [
    {
     "data": {
      "image/png": "[encoded data removed]",
      "text/plain": [
       "<Figure size 432x288 with 1 Axes>"
      ]
     },
     "metadata": {
      "needs_background": "light"
     },
     "output_type": "display_data"
    }
   ],
   "source": [
    "w_city_v = w_city.value\n",
    "w_kpi_v = w_kpi.value\n",
    "w_days_v = w_days.value\n",
    "w_std_v = w_std.value\n",
    "\n",
    "# To change the graph, pick your parameters (City, KPI, Days, σ) and re-run this cell.\n",
    "# If it doesn't work, re-run the cell above, pick your parameters again, THEN re-run this cell.\n",
    "\n",
    "plot_anomalies(w_city_v, w_kpi_v, w_days_v, w_std_v)"
   ]
  },
  {
   "cell_type": "markdown",
   "metadata": {},
   "source": [
    "# RANKING CITIES BY KPI PERFORMANCE"
   ]
  },
  {
   "cell_type": "markdown",
   "metadata": {},
   "source": [
    "# A function to find anomaly counts of each city's KPIs\n"
   ]
  },
  {
   "cell_type": "code",
   "execution_count": 14,
   "metadata": {},
   "outputs": [],
   "source": [
    "def count_anomalies(city_name, kpi):\n",
    "    df = city_dfs[city_name]\n",
    "        \n",
    "    low_lims, up_lims = plot_threshold(city_name, kpi, w_days_v, 2, plot=0)\n",
    "    values = df[kpi]\n",
    "    kind = kpi_types[kpi]\n",
    "\n",
    "    if kind==\"LOW\":\n",
    "        lims = low_lims\n",
    "    else:\n",
    "        lims = up_lims\n",
    "    total_anomalies = 0\n",
    "    for i in range(len(values)):\n",
    "        v = values[i]\n",
    "        l = lims[i]\n",
    " \n",
    "        if is_anomaly(v,l,kind):\n",
    "            total_anomalies += 1\n",
    "            \n",
    "    return total_anomalies"
   ]
  },
  {
   "cell_type": "markdown",
   "metadata": {},
   "source": [
    "## Functions for finding statistics of a KPI for every city"
   ]
  },
  {
   "cell_type": "code",
   "execution_count": 15,
   "metadata": {},
   "outputs": [],
   "source": [
    "city_group_A = ['CITY-1', 'CITY-22', 'CITY-20', 'CITY-18', 'CITY-8', 'CITY-14', 'CITY-9', 'CITY-23', 'CITY-3']\n",
    "city_group_B = ['CITY-17', 'CITY-16', 'CITY-5', 'CITY-2', 'CITY-24', 'CITY-21', 'CITY-10', 'CITY-12', 'CITY-11']\n",
    "city_group_C = ['CITY-13', 'CITY-4', 'CITY-19', 'CITY-6', 'CITY-3', 'CITY-23', 'CITY-7', 'CITY-15', 'CITY-9']"
   ]
  },
  {
   "cell_type": "code",
   "execution_count": 16,
   "metadata": {},
   "outputs": [],
   "source": [
    "\"\"\"\n",
    "city_stats = \n",
    " {metric1: DataFrame(rows=cities, columns=kpis),\n",
    " metric2: DataFrame(rows=cities, columns=kpis),\n",
    " ...\n",
    " }\n",
    " \n",
    "\"\"\"\n",
    "\n",
    "\n",
    "def get_stat(metric, city, kpi):\n",
    "    \n",
    "    data = city_dfs[city][kpi]\n",
    "    \n",
    "    if metric == \"Anomaly\":\n",
    "        return count_anomalies(city, kpi)\n",
    "    elif metric == \"Median\":\n",
    "        return np.median(data)\n",
    "    else:\n",
    "        return np.mean(data)\n",
    "\n",
    "    \n",
    "def compare_cities(kpi, cities):\n",
    "    city_stats = dict()\n",
    "    metrics = [\"Anomaly\",\"Median\",\"Mean\"]\n",
    "    for metric in metrics:\n",
    "        stats = list()\n",
    "        for city in list(cities):\n",
    "            stat = get_stat(metric, city, kpi)\n",
    "            stats.append(stat)\n",
    "        city_stats[metric] = pd.Series(stats,index=cities)\n",
    "    \n",
    "    return city_stats\n",
    "\n",
    "def all_equal(lst):\n",
    "    return all(v == lst[0] for v in lst)\n"
   ]
  },
  {
   "cell_type": "markdown",
   "metadata": {},
   "source": [
    "## Creating functions to show city rankings"
   ]
  },
  {
   "cell_type": "code",
   "execution_count": 17,
   "metadata": {},
   "outputs": [],
   "source": [
    "rescale = lambda y: (y - np.min(y)) / (np.max(y) - np.min(y))\n",
    "rescale2 = lambda y: 1 - (y - np.min(y)) / (np.max(y) - np.min(y))\n",
    "\n",
    "anomaly_cmap = plt.get_cmap(\"autumn\")\n",
    "other_cmap = plt.get_cmap(\"RdYlGn\")\n",
    "\n",
    "def top_cities(kpi, cities=cities.values()):\n",
    "    \n",
    "    kind = kpi_types[kpi]\n",
    "    city_metric_rankings = compare_cities(kpi, cities)\n",
    "    metrics = [\"Anomaly\",\"Median\",\"Mean\"]\n",
    "\n",
    "    fig, axes = plt.subplots(1, 3, figsize=(18, 6))\n",
    "    axes = axes.reshape(1,3)[0]\n",
    "    \n",
    "    for i in range(len(metrics)):\n",
    "\n",
    "        metric = metrics[i]\n",
    "        ax = axes[i]\n",
    "        \n",
    "        metric_series = city_metric_rankings[metric]\n",
    "        asc = (kind != \"LOW\") or (metrics[i] == \"Anomaly\")\n",
    "\n",
    "        ordered_series = metric_series.sort_values(ascending=asc).iloc[-9:]\n",
    "        ordered_cities = ordered_series.index[-9:]\n",
    "        ordered_values = ordered_series.iloc[-9:]\n",
    "\n",
    "        if metric==\"Anomaly\":\n",
    "            if all_equal(ordered_values):\n",
    "                ax.barh(ordered_cities, ordered_values)\n",
    "            else:\n",
    "                ax.barh(ordered_cities, ordered_values, color=anomaly_cmap(rescale2(ordered_values)))\n",
    "        else:\n",
    "            if not asc:\n",
    "                ax.barh(ordered_cities, ordered_values, color=other_cmap(rescale(ordered_values)))\n",
    "            else:\n",
    "                ax.barh(ordered_cities, ordered_values, color=other_cmap(rescale(ordered_values))[::-1])\n",
    "                \n",
    "        ax.set_title(f\"{kpi}\\nKPI KIND: {kind}\\nORDERED BY {metric.upper()}\")\n",
    "    return"
   ]
  },
  {
   "cell_type": "code",
   "execution_count": 18,
   "metadata": {},
   "outputs": [
    {
     "data": {
      "application/vnd.jupyter.widget-view+json": {
       "model_id": "dd2135e272cc46adbe662e608c862374",
       "version_major": 2,
       "version_minor": 0
      },
      "text/plain": [
       "Dropdown(description='KPI:', options=('KPI-2', 'KPI-4', 'KPI-5', 'KPI-6', 'KPI-8', 'KPI-9', 'KPI-10', 'KPI-11'…"
      ]
     },
     "metadata": {},
     "output_type": "display_data"
    }
   ],
   "source": [
    "w_kpi2 = widgets.Dropdown(\n",
    "    options=kpis,\n",
    "    value=kpis[0],\n",
    "    description='KPI:'\n",
    ")\n",
    "display(w_kpi2)"
   ]
  },
  {
   "cell_type": "code",
   "execution_count": 19,
   "metadata": {},
   "outputs": [
    {
     "data": {
      "image/png": "[encoded data removed]",
      "text/plain": [
       "<Figure size 1296x432 with 3 Axes>"
      ]
     },
     "metadata": {
      "needs_background": "light"
     },
     "output_type": "display_data"
    }
   ],
   "source": [
    "w_kpi2_v = w_kpi2.value\n",
    "\n",
    "# To change the graph, pick your kpi and re-run this cell.\n",
    "# If it doesn't work, re-run the cell above, pick your parameters again, THEN re-run this cell.\n",
    "\n",
    "top_cities(w_kpi2_v) # All (given) cities"
   ]
  },
  {
   "cell_type": "code",
   "execution_count": 20,
   "metadata": {},
   "outputs": [
    {
     "data": {
      "image/png": "[encoded data removed]",
      "text/plain": [
       "<Figure size 1296x432 with 3 Axes>"
      ]
     },
     "metadata": {
      "needs_background": "light"
     },
     "output_type": "display_data"
    }
   ],
   "source": [
    "w_kpi2_v = w_kpi2.value\n",
    "\n",
    "top_cities(w_kpi2_v, city_group_A)"
   ]
  },
  {
   "cell_type": "code",
   "execution_count": 21,
   "metadata": {},
   "outputs": [
    {
     "data": {
      "image/png": "[encoded data removed]",
      "text/plain": [
       "<Figure size 1296x432 with 3 Axes>"
      ]
     },
     "metadata": {
      "needs_background": "light"
     },
     "output_type": "display_data"
    }
   ],
   "source": [
    "w_kpi2_v = w_kpi2.value\n",
    "\n",
    "top_cities(w_kpi2_v, city_group_B)"
   ]
  },
  {
   "cell_type": "code",
   "execution_count": 22,
   "metadata": {},
   "outputs": [
    {
     "data": {
      "image/png": "[encoded data removed]",
      "text/plain": [
       "<Figure size 1296x432 with 3 Axes>"
      ]
     },
     "metadata": {
      "needs_background": "light"
     },
     "output_type": "display_data"
    }
   ],
   "source": [
    "w_kpi2_v = w_kpi2.value\n",
    "\n",
    "top_cities(w_kpi2_v, city_group_C)"
   ]
  }
 ],
 "metadata": {
  "kernelspec": {
   "display_name": "Python 3",
   "language": "python",
   "name": "python3"
  },
  "language_info": {
   "codemirror_mode": {
    "name": "ipython",
    "version": 3
   },
   "file_extension": ".py",
   "mimetype": "text/x-python",
   "name": "python",
   "nbconvert_exporter": "python",
   "pygments_lexer": "ipython3",
   "version": "3.9.0"
  }
 },
 "nbformat": 4,
 "nbformat_minor": 4
}
